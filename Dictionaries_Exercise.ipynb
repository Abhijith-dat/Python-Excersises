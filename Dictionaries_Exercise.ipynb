{
  "cells": [
    {
      "cell_type": "markdown",
      "id": "ca5621d4-6342-4176-a9d9-66ef7b1e7005",
      "metadata": {
        "id": "ca5621d4-6342-4176-a9d9-66ef7b1e7005"
      },
      "source": [
        "#### Dictionaries - Exercises"
      ]
    },
    {
      "cell_type": "code",
      "execution_count": null,
      "id": "532cece2-c933-43e5-a08d-009113e17b3b",
      "metadata": {
        "colab": {
          "base_uri": "https://localhost:8080/"
        },
        "id": "532cece2-c933-43e5-a08d-009113e17b3b",
        "outputId": "39df1779-6168-49cc-a302-50341f6a4386"
      },
      "outputs": [
        {
          "output_type": "stream",
          "name": "stdout",
          "text": [
            "{}\n"
          ]
        }
      ],
      "source": [
        "# 1. Create an empty dictionary called dogs\n",
        "dogs = {}\n",
        "print(dogs)"
      ]
    },
    {
      "cell_type": "code",
      "execution_count": null,
      "id": "b5f1e41e-5a37-4334-8c7a-b02e6cfc2e48",
      "metadata": {
        "colab": {
          "base_uri": "https://localhost:8080/"
        },
        "id": "b5f1e41e-5a37-4334-8c7a-b02e6cfc2e48",
        "outputId": "49ddc683-f932-4ca9-cafe-0e6e3ec75a40"
      },
      "outputs": [
        {
          "output_type": "stream",
          "name": "stdout",
          "text": [
            "{'name': 'dayana', 'color': 'white', 'legs': 4, 'age': 2, 'breed': 'golden retriever'}\n"
          ]
        }
      ],
      "source": [
        "# 2. Add name, color, breed, legs, age to the dog dictionary\n",
        "dogs[\"name\"] = \"dayana\"\n",
        "dogs[\"color\"] = \"white\"\n",
        "dogs[\"legs\"] = 4\n",
        "dogs[\"age\"] = 2\n",
        "dogs[\"breed\"] = \"golden retriever\"\n",
        "print(dogs)\n"
      ]
    },
    {
      "cell_type": "code",
      "execution_count": null,
      "id": "8bdbb97f-ec52-4d94-9142-6900bc9a948f",
      "metadata": {
        "colab": {
          "base_uri": "https://localhost:8080/"
        },
        "id": "8bdbb97f-ec52-4d94-9142-6900bc9a948f",
        "outputId": "69a8a54c-c6c7-45b0-cea5-085650761eab"
      },
      "outputs": [
        {
          "output_type": "stream",
          "name": "stdout",
          "text": [
            "{'first name': 'Abhijith', 'last name': 'Anirudhan', 'gender': 'male', 'age': 27, 'marital status': 'Unmarried', 'skills': ['python', 'data analysis'], 'country': 'Indian', 'city': 'Kochi', 'Address': 'Padinjare vailekkat'}\n"
          ]
        }
      ],
      "source": [
        "# 3. Create a student dictionary and add first_name, last_name, gender, age,\n",
        "    # marital status, skills, country, city and address as keys for the dictionary\n",
        "student = {\n",
        "  \"first name\" : \"Abhijith\",\n",
        "  \"last name\" : \"Anirudhan\",\n",
        "  \"gender\": \"male\",\n",
        "  \"age\": 27,\n",
        "  \"marital status\" : \"Unmarried\",\n",
        "  \"skills\" : [\"python\", \"data analysis\"],\n",
        "  \"country\" : \"Indian\",\n",
        "  \"city\" : \"Kochi\",\n",
        "  \"Address\" : \"Padinjare vailekkat\"  }\n",
        "print(student)"
      ]
    },
    {
      "cell_type": "code",
      "execution_count": null,
      "id": "b49fcafb-8a26-401f-8cfe-978eca7fd83e",
      "metadata": {
        "colab": {
          "base_uri": "https://localhost:8080/"
        },
        "id": "b49fcafb-8a26-401f-8cfe-978eca7fd83e",
        "outputId": "82a9c95c-497e-4613-9eeb-d7fefc55da72"
      },
      "outputs": [
        {
          "output_type": "stream",
          "name": "stdout",
          "text": [
            "length 9\n"
          ]
        }
      ],
      "source": [
        "# 4. Get the length of the student dictionary\n",
        "\n",
        "print(\"length\", len(student))"
      ]
    },
    {
      "cell_type": "code",
      "execution_count": null,
      "id": "72fa5725-2459-42e8-ac03-606aa5d8f7af",
      "metadata": {
        "colab": {
          "base_uri": "https://localhost:8080/"
        },
        "id": "72fa5725-2459-42e8-ac03-606aa5d8f7af",
        "outputId": "8ae53f91-481b-406b-e0ea-733185436161"
      },
      "outputs": [
        {
          "output_type": "stream",
          "name": "stdout",
          "text": [
            "skills: ['python', 'data analysis']\n",
            "data types of skills  <class 'list'>\n"
          ]
        }
      ],
      "source": [
        "# 5. Get the value of skills and check the data type, it should be a list\n",
        "skills = student[\"skills\"]\n",
        "print(\"skills:\", skills)\n",
        "print(\"data types of skills \", type(skills))"
      ]
    },
    {
      "cell_type": "code",
      "execution_count": null,
      "id": "e8ea173a-50cc-4e57-b56e-9f0081cde762",
      "metadata": {
        "colab": {
          "base_uri": "https://localhost:8080/"
        },
        "id": "e8ea173a-50cc-4e57-b56e-9f0081cde762",
        "outputId": "5ddd2c42-0916-4f63-9ee1-1be4f68e719d"
      },
      "outputs": [
        {
          "output_type": "stream",
          "name": "stdout",
          "text": [
            "['python', 'data analysis', 'machine learning', 'Critical thinking', 'SQL']\n"
          ]
        }
      ],
      "source": [
        "# 6. Modify the skills values by adding one or two skills\n",
        "student[\"skills\"].extend([\"machine learning\", \"Critical thinking\", \"SQL\"])\n",
        "print(skills)"
      ]
    },
    {
      "cell_type": "code",
      "execution_count": null,
      "id": "66d4247d-8d74-4393-840e-dc5123f24ff6",
      "metadata": {
        "colab": {
          "base_uri": "https://localhost:8080/"
        },
        "id": "66d4247d-8d74-4393-840e-dc5123f24ff6",
        "outputId": "a2daaebf-a202-406f-c81d-53134effd873"
      },
      "outputs": [
        {
          "output_type": "stream",
          "name": "stdout",
          "text": [
            "keys as list:  ['first name', 'last name', 'gender', 'age', 'marital status', 'skills', 'country', 'city', 'Address']\n"
          ]
        }
      ],
      "source": [
        "# 7. Get the dictionary keys as a list\n",
        "keys_list = list(student.keys())\n",
        "print(\"keys as list: \", keys_list)"
      ]
    },
    {
      "cell_type": "code",
      "execution_count": null,
      "id": "e173a41e-3495-4f72-89c2-160618e42ffe",
      "metadata": {
        "colab": {
          "base_uri": "https://localhost:8080/"
        },
        "id": "e173a41e-3495-4f72-89c2-160618e42ffe",
        "outputId": "6e2b88a3-fc4d-4d09-d06c-9d8f0e68a677"
      },
      "outputs": [
        {
          "output_type": "stream",
          "name": "stdout",
          "text": [
            "values as list:  ['Abhijith', 'Anirudhan', 'male', 27, 'Unmarried', ['python', 'data analysis'], 'Indian', 'Kochi', 'Padinjare vailekkat']\n"
          ]
        }
      ],
      "source": [
        "# 8. Get the dictionary values as a list\n",
        "values_list = list(student.values())\n",
        "print(\"values as list: \", values_list)"
      ]
    },
    {
      "cell_type": "code",
      "execution_count": null,
      "id": "23aa404e-953a-4b01-8646-ab7428daa746",
      "metadata": {
        "colab": {
          "base_uri": "https://localhost:8080/"
        },
        "id": "23aa404e-953a-4b01-8646-ab7428daa746",
        "outputId": "c9dcafdb-457e-4ebe-a572-9eff2c4bb979"
      },
      "outputs": [
        {
          "output_type": "stream",
          "name": "stdout",
          "text": [
            "list of tuples:  [('first name', 'Abhijith'), ('last name', 'Anirudhan'), ('gender', 'male'), ('age', 25), ('marital status', 'Unmarried'), ('skills', ['python', 'data analysis']), ('country', 'Indian'), ('city', 'Kochi'), ('Address', 'Padinjare vailekkat')]\n"
          ]
        }
      ],
      "source": [
        "# 9. Change the dictionary to a list of tuples using items() method\n",
        "student_items = list(student.items())\n",
        "print(\"list of tuples: \", student_items)"
      ]
    },
    {
      "cell_type": "code",
      "execution_count": null,
      "id": "e4c3a0a9-c9d8-4ad8-9e9e-f61b92d06952",
      "metadata": {
        "colab": {
          "base_uri": "https://localhost:8080/"
        },
        "id": "e4c3a0a9-c9d8-4ad8-9e9e-f61b92d06952",
        "outputId": "11d92f3c-537f-48bb-ab75-e7c0acb2f6ee"
      },
      "outputs": [
        {
          "output_type": "stream",
          "name": "stdout",
          "text": [
            "updated dictionary:  {'first name': 'Abhijith', 'last name': 'Anirudhan', 'gender': 'male', 'marital status': 'Unmarried', 'skills': ['python', 'data analysis', 'machine learning', 'Critical thinking', 'SQL'], 'country': 'Indian', 'city': 'Kochi', 'Address': 'Padinjare vailekkat'}\n"
          ]
        }
      ],
      "source": [
        "# 10. Delete one of the items in the dictionary\n",
        "del student[\"age\"]\n",
        "print(\"updated dictionary: \", student)"
      ]
    },
    {
      "cell_type": "code",
      "execution_count": null,
      "id": "e868f738-ca08-47cb-90db-6284f2e05c42",
      "metadata": {
        "colab": {
          "base_uri": "https://localhost:8080/",
          "height": 183
        },
        "id": "e868f738-ca08-47cb-90db-6284f2e05c42",
        "outputId": "d7320f0e-72f9-4c0d-f788-66b063d64d32"
      },
      "outputs": [
        {
          "output_type": "error",
          "ename": "NameError",
          "evalue": "name 'student' is not defined",
          "traceback": [
            "\u001b[0;31m---------------------------------------------------------------------------\u001b[0m",
            "\u001b[0;31mNameError\u001b[0m                                 Traceback (most recent call last)",
            "\u001b[0;32m/tmp/ipython-input-26425987.py\u001b[0m in \u001b[0;36m<cell line: 0>\u001b[0;34m()\u001b[0m\n\u001b[1;32m      1\u001b[0m \u001b[0;31m# 11. Delete one of the dictionaries\u001b[0m\u001b[0;34m\u001b[0m\u001b[0;34m\u001b[0m\u001b[0m\n\u001b[0;32m----> 2\u001b[0;31m \u001b[0;32mdel\u001b[0m \u001b[0mstudent\u001b[0m\u001b[0;34m\u001b[0m\u001b[0;34m\u001b[0m\u001b[0m\n\u001b[0m\u001b[1;32m      3\u001b[0m \u001b[0mprint\u001b[0m\u001b[0;34m(\u001b[0m\u001b[0mstudent\u001b[0m\u001b[0;34m)\u001b[0m\u001b[0;34m\u001b[0m\u001b[0;34m\u001b[0m\u001b[0m\n",
            "\u001b[0;31mNameError\u001b[0m: name 'student' is not defined"
          ]
        }
      ],
      "source": [
        "# 11. Delete one of the dictionaries\n",
        "del student\n",
        "print(student)"
      ]
    }
  ],
  "metadata": {
    "kernelspec": {
      "display_name": "Python 3 (ipykernel)",
      "language": "python",
      "name": "python3"
    },
    "language_info": {
      "codemirror_mode": {
        "name": "ipython",
        "version": 3
      },
      "file_extension": ".py",
      "mimetype": "text/x-python",
      "name": "python",
      "nbconvert_exporter": "python",
      "pygments_lexer": "ipython3",
      "version": "3.12.7"
    },
    "colab": {
      "provenance": []
    }
  },
  "nbformat": 4,
  "nbformat_minor": 5
}