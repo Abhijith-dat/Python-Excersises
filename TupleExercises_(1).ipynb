{
  "cells": [
    {
      "cell_type": "markdown",
      "id": "403ae88f-1a02-4a8a-a148-78c273eae750",
      "metadata": {
        "id": "403ae88f-1a02-4a8a-a148-78c273eae750"
      },
      "source": [
        "### Exercises: Tuples"
      ]
    },
    {
      "cell_type": "code",
      "execution_count": null,
      "id": "1026f155-cd7c-433e-8301-845f7159d638",
      "metadata": {
        "colab": {
          "base_uri": "https://localhost:8080/"
        },
        "id": "1026f155-cd7c-433e-8301-845f7159d638",
        "outputId": "24aa96a0-c5d8-4d61-be3f-9e000825bfe4"
      },
      "outputs": [
        {
          "output_type": "stream",
          "name": "stdout",
          "text": [
            "()\n"
          ]
        }
      ],
      "source": [
        "# 1. Create an empty tuple\n",
        "empty_tuple = tuple()\n",
        "print(empty_tuple)"
      ]
    },
    {
      "cell_type": "code",
      "execution_count": null,
      "id": "b47ce189-aba9-43a6-a16c-1d5120105d70",
      "metadata": {
        "colab": {
          "base_uri": "https://localhost:8080/"
        },
        "id": "b47ce189-aba9-43a6-a16c-1d5120105d70",
        "outputId": "e662e66a-6452-49da-da1a-e59998b33025"
      },
      "outputs": [
        {
          "output_type": "stream",
          "name": "stdout",
          "text": [
            "sisters: ('Aadhithya', 'Akhila')\n",
            "brothers:  ('Amaljith', 'Dev')\n"
          ]
        }
      ],
      "source": [
        "# 2. Create a tuple containing names of your sisters and your brothers (imaginary siblings are fine)\n",
        "brothers = (\"Amaljith\", \"Dev\")\n",
        "sisters = (\"Aadhithya\",\"Akhila\")\n",
        "print(\"sisters:\", sisters)\n",
        "print(\"brothers: \", brothers)"
      ]
    },
    {
      "cell_type": "code",
      "execution_count": null,
      "id": "681fb7d0-cda0-47c8-949f-d62a92a7c496",
      "metadata": {
        "colab": {
          "base_uri": "https://localhost:8080/"
        },
        "id": "681fb7d0-cda0-47c8-949f-d62a92a7c496",
        "outputId": "883c4a13-9a66-4191-bb6a-7d033d9432d5"
      },
      "outputs": [
        {
          "output_type": "stream",
          "name": "stdout",
          "text": [
            "('Amaljith', 'Dev', 'Aadhithya', 'Akhila')\n"
          ]
        }
      ],
      "source": [
        "# 3. Join brothers and sisters tuples and assign it to siblings\n",
        "brothers = (\"Amaljith\", \"Dev\")\n",
        "sisters = (\"Aadhithya\",\"Akhila\")\n",
        "siblings = brothers + sisters\n",
        "print(siblings)"
      ]
    },
    {
      "cell_type": "code",
      "execution_count": null,
      "id": "ecdd3608-13c6-4e97-bb21-e326ec1c0878",
      "metadata": {
        "colab": {
          "base_uri": "https://localhost:8080/"
        },
        "id": "ecdd3608-13c6-4e97-bb21-e326ec1c0878",
        "outputId": "5b26ac0f-3f47-4fe9-8a27-590ce8cdffe7"
      },
      "outputs": [
        {
          "output_type": "stream",
          "name": "stdout",
          "text": [
            "number of siblings  4\n"
          ]
        }
      ],
      "source": [
        "# 4. How many siblings do you have?\n",
        "brothers = (\"Amaljith\", \"Dev\")\n",
        "sisters = (\"Aadhithya\",\"Akhila\")\n",
        "siblings = brothers + sisters\n",
        "print(\"number of siblings \", len(siblings))"
      ]
    },
    {
      "cell_type": "code",
      "execution_count": null,
      "id": "34683f88-9735-45af-845f-f52abc29533a",
      "metadata": {
        "colab": {
          "base_uri": "https://localhost:8080/"
        },
        "id": "34683f88-9735-45af-845f-f52abc29533a",
        "outputId": "78ac2c93-99e9-4772-a37f-64688a12e348"
      },
      "outputs": [
        {
          "output_type": "stream",
          "name": "stdout",
          "text": [
            "('Amaljith', 'Dev', 'Aadhithya', 'Akhila', 'Anirudhan', 'Ambika')\n"
          ]
        }
      ],
      "source": [
        "# 5. Modify the siblings tuple and add the name of your father and mother and assign it to family_members\n",
        "\n",
        "brothers = (\"Amaljith\", \"Dev\")\n",
        "sisters = (\"Aadhithya\",\"Akhila\")\n",
        "father = \"Anirudhan\"\n",
        "mother = \"Ambika\"\n",
        "siblings = brothers + sisters\n",
        "family_members = siblings + (father, mother)\n",
        "print(family_members)"
      ]
    },
    {
      "cell_type": "code",
      "execution_count": null,
      "id": "8e5d51d0-fdc2-4ab9-a83d-6e9384325a67",
      "metadata": {
        "colab": {
          "base_uri": "https://localhost:8080/"
        },
        "id": "8e5d51d0-fdc2-4ab9-a83d-6e9384325a67",
        "outputId": "034e4cea-9fc1-44b4-9726-a5eecff06d58"
      },
      "outputs": [
        {
          "output_type": "stream",
          "name": "stdout",
          "text": [
            "['Amaljith', 'Dev', 'Aadhithya', 'Akhila']\n",
            "Anirudhan\n",
            "Ambika\n"
          ]
        }
      ],
      "source": [
        "# 6. Unpack siblings and parents from family_members\n",
        "family_members = ('Amaljith', 'Dev', 'Aadhithya', 'Akhila', 'Anirudhan', 'Ambika')\n",
        "*siblings, father, mother = family_members\n",
        "print(siblings)\n",
        "print(father)\n",
        "print(mother)"
      ]
    },
    {
      "cell_type": "code",
      "execution_count": null,
      "id": "4cb60264-6b36-4104-b884-a98550645f5a",
      "metadata": {
        "colab": {
          "base_uri": "https://localhost:8080/"
        },
        "id": "4cb60264-6b36-4104-b884-a98550645f5a",
        "outputId": "2806ba1c-6681-4948-9cd2-f423490cac9b"
      },
      "outputs": [
        {
          "output_type": "stream",
          "name": "stdout",
          "text": [
            "('apple', 'blueberry', 'avocado', 'kiwi', 'tomato', 'spinach', 'potato', 'capsicum', 'ghee', 'curd', 'milk', 'honey')\n"
          ]
        }
      ],
      "source": [
        "# 7. Create fruits, vegetables and animal products tuples. Join the three tuples and\n",
        "# assign it to a variable called food_stuff_tp.\n",
        "fruits = (\"apple\", \"blueberry\", \"avocado\", \"kiwi\")\n",
        "vegetables = (\"tomato\", \"spinach\", \"potato\", \"capsicum\")\n",
        "animal_products = (\"ghee\", \"curd\", \"milk\", \"honey\")\n",
        "food_stuff_tp = fruits + vegetables + animal_products\n",
        "print(food_stuff_tp)"
      ]
    },
    {
      "cell_type": "code",
      "execution_count": null,
      "id": "a900b2a8-d7e5-4256-a975-09a3ba091dbe",
      "metadata": {
        "colab": {
          "base_uri": "https://localhost:8080/"
        },
        "id": "a900b2a8-d7e5-4256-a975-09a3ba091dbe",
        "outputId": "bd32e30d-0e53-4567-e509-93f958e94920"
      },
      "outputs": [
        {
          "output_type": "stream",
          "name": "stdout",
          "text": [
            "food stuff list  ['apple', 'blueberry', 'avocado', 'kiwi', 'tomato', 'spinach', 'potato', 'capsicum', 'ghee', 'curd', 'milk', 'honey']\n"
          ]
        }
      ],
      "source": [
        "# 8. Change the about food_stuff_tp tuple to a food_stuff_lt list\n",
        "fruits = (\"apple\", \"blueberry\", \"avocado\", \"kiwi\")\n",
        "vegetables = (\"tomato\", \"spinach\", \"potato\", \"capsicum\")\n",
        "animal_products = (\"ghee\", \"curd\", \"milk\", \"honey\")\n",
        "food_stuff_tp = fruits + vegetables + animal_products\n",
        "food_stuff_lt = list(food_stuff_tp)\n",
        "print(\"food stuff list \", food_stuff_lt)"
      ]
    },
    {
      "cell_type": "code",
      "execution_count": null,
      "id": "dafc6ef2-9c02-45d3-ad81-5d5fd6842d97",
      "metadata": {
        "colab": {
          "base_uri": "https://localhost:8080/"
        },
        "id": "dafc6ef2-9c02-45d3-ad81-5d5fd6842d97",
        "outputId": "36f09ec1-bc12-4487-b141-a2ec8b2ac097"
      },
      "outputs": [
        {
          "output_type": "stream",
          "name": "stdout",
          "text": [
            "middle item(s)  ['spinach', 'potato']\n"
          ]
        }
      ],
      "source": [
        "# 9. Slice out the middle item or items from the food_stuff_tp tuple or food_stuff_lt\n",
        "#list.\n",
        "food_stuff_list = ['apple', 'blueberry', 'avocado', 'kiwi', 'tomato', 'spinach', 'potato', 'capsicum', 'ghee', 'curd', 'milk', 'honey']\n",
        "length = len(food_stuff_list)\n",
        "mid = length//2\n",
        "if mid%2 == 0:\n",
        "  middle_items = food_stuff_list[mid-1 : mid+1]\n",
        "else:\n",
        "  middle_items = food_stuff_list[mid]\n",
        "print(\"middle item(s) \", middle_items)"
      ]
    },
    {
      "cell_type": "code",
      "execution_count": null,
      "id": "fa0cf3bc-9086-43a5-9536-27aa8843a3d0",
      "metadata": {
        "colab": {
          "base_uri": "https://localhost:8080/"
        },
        "id": "fa0cf3bc-9086-43a5-9536-27aa8843a3d0",
        "outputId": "dea9f80c-a017-4983-c700-06209c992d18"
      },
      "outputs": [
        {
          "output_type": "stream",
          "name": "stdout",
          "text": [
            "['kiwi', 'tomato', 'spinach', 'potato', 'capsicum', 'ghee']\n"
          ]
        }
      ],
      "source": [
        "# 10.  Slice out the first three items and the last three items from food_staff_lt list\n",
        "food_stuff_list = ['apple', 'blueberry', 'avocado', 'kiwi', 'tomato', 'spinach', 'potato', 'capsicum', 'ghee', 'curd', 'milk', 'honey']\n",
        "sliced_food_stuff_list = food_stuff_list[3:-3]\n",
        "print(sliced_food_stuff_list)\n"
      ]
    },
    {
      "cell_type": "code",
      "execution_count": null,
      "id": "32d62f86-00ff-42ad-b1a4-83c9637220bd",
      "metadata": {
        "colab": {
          "base_uri": "https://localhost:8080/",
          "height": 183
        },
        "id": "32d62f86-00ff-42ad-b1a4-83c9637220bd",
        "outputId": "ac2ddd60-beb5-4861-d0e7-81335ec89d70"
      },
      "outputs": [
        {
          "output_type": "error",
          "ename": "NameError",
          "evalue": "name 'food_stuff_tp' is not defined",
          "traceback": [
            "\u001b[0;31m---------------------------------------------------------------------------\u001b[0m",
            "\u001b[0;31mNameError\u001b[0m                                 Traceback (most recent call last)",
            "\u001b[0;32m/tmp/ipython-input-984130875.py\u001b[0m in \u001b[0;36m<cell line: 0>\u001b[0;34m()\u001b[0m\n\u001b[1;32m      2\u001b[0m \u001b[0mfood_stuff_tp\u001b[0m \u001b[0;34m=\u001b[0m \u001b[0;34m(\u001b[0m\u001b[0;34m'apple'\u001b[0m\u001b[0;34m,\u001b[0m \u001b[0;34m'blueberry'\u001b[0m\u001b[0;34m,\u001b[0m \u001b[0;34m'avocado'\u001b[0m\u001b[0;34m,\u001b[0m \u001b[0;34m'kiwi'\u001b[0m\u001b[0;34m,\u001b[0m \u001b[0;34m'tomato'\u001b[0m\u001b[0;34m,\u001b[0m \u001b[0;34m'spinach'\u001b[0m\u001b[0;34m,\u001b[0m \u001b[0;34m'potato'\u001b[0m\u001b[0;34m,\u001b[0m \u001b[0;34m'capsicum'\u001b[0m\u001b[0;34m,\u001b[0m \u001b[0;34m'ghee'\u001b[0m\u001b[0;34m,\u001b[0m \u001b[0;34m'curd'\u001b[0m\u001b[0;34m,\u001b[0m \u001b[0;34m'milk'\u001b[0m\u001b[0;34m,\u001b[0m \u001b[0;34m'honey'\u001b[0m\u001b[0;34m)\u001b[0m\u001b[0;34m\u001b[0m\u001b[0;34m\u001b[0m\u001b[0m\n\u001b[1;32m      3\u001b[0m \u001b[0;32mdel\u001b[0m\u001b[0;34m(\u001b[0m\u001b[0mfood_stuff_tp\u001b[0m\u001b[0;34m)\u001b[0m\u001b[0;34m\u001b[0m\u001b[0;34m\u001b[0m\u001b[0m\n\u001b[0;32m----> 4\u001b[0;31m \u001b[0mprint\u001b[0m\u001b[0;34m(\u001b[0m\u001b[0mfood_stuff_tp\u001b[0m\u001b[0;34m)\u001b[0m\u001b[0;34m\u001b[0m\u001b[0;34m\u001b[0m\u001b[0m\n\u001b[0m",
            "\u001b[0;31mNameError\u001b[0m: name 'food_stuff_tp' is not defined"
          ]
        }
      ],
      "source": [
        "# 11. Delete the food_staff_tp tuple completely\n",
        "food_stuff_tp = ('apple', 'blueberry', 'avocado', 'kiwi', 'tomato', 'spinach', 'potato', 'capsicum', 'ghee', 'curd', 'milk', 'honey')\n",
        "del(food_stuff_tp)\n",
        "print(food_stuff_tp)"
      ]
    },
    {
      "cell_type": "code",
      "execution_count": null,
      "id": "d786909d-d7d4-45ec-80ca-6feab7a6efd2",
      "metadata": {
        "colab": {
          "base_uri": "https://localhost:8080/"
        },
        "id": "d786909d-d7d4-45ec-80ca-6feab7a6efd2",
        "outputId": "f9dbaca3-6902-4611-ff2e-500e99f9bfc9"
      },
      "outputs": [
        {
          "output_type": "stream",
          "name": "stdout",
          "text": [
            "Is Estonia is a nordic country?  False\n",
            "Is Iceland is a nordic country?  True\n"
          ]
        }
      ],
      "source": [
        "# 12. Check if an item exists in tuple:\n",
        "# Check if 'Estonia' is a nordic country\n",
        "# Check if 'Iceland' is a nordic country\n",
        "# nordic_countries = ('Denmark', 'Finland','Iceland', 'Norway', 'Sweden')\"\"\n",
        "nordic_countries = ('Denmark', 'Finland','Iceland', 'Norway', 'Sweden')\n",
        "print(\"Is Estonia is a nordic country? \", 'Estonia' in nordic_countries)\n",
        "print(\"Is Iceland is a nordic country? \", 'Iceland' in nordic_countries)"
      ]
    }
  ],
  "metadata": {
    "kernelspec": {
      "display_name": "Python 3 (ipykernel)",
      "language": "python",
      "name": "python3"
    },
    "language_info": {
      "codemirror_mode": {
        "name": "ipython",
        "version": 3
      },
      "file_extension": ".py",
      "mimetype": "text/x-python",
      "name": "python",
      "nbconvert_exporter": "python",
      "pygments_lexer": "ipython3",
      "version": "3.12.7"
    },
    "colab": {
      "provenance": []
    }
  },
  "nbformat": 4,
  "nbformat_minor": 5
}